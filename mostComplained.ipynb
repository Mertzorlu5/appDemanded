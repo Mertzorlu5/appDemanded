{
 "cells": [
  {
   "cell_type": "code",
   "execution_count": null,
   "metadata": {},
   "outputs": [],
   "source": [
    "import pandas as pd\n",
    "\n",
    "df= pd.read_csv('/Users/mertz/dataAnalyze/mexicoComplain/complaints.csv')\n",
    "\n",
    "\n",
    "#checked al the na/nulls then \n",
    "print(df.isnull().sum())\n",
    "\n",
    "#we dropped these \n",
    "df=df.dropna()\n",
    "\n",
    "#then checked again they are all gone now.\n",
    "print(df.isnull().sum())"
   ]
  }
 ],
 "metadata": {
  "interpreter": {
   "hash": "a665b5d41d17b532ea9890333293a1b812fa0b73c9c25c950b3cedf1bebd0438"
  },
  "kernelspec": {
   "display_name": "Python 3.9.17 64-bit",
   "language": "python",
   "name": "python3"
  },
  "language_info": {
   "name": "python",
   "version": "3.9.17"
  },
  "orig_nbformat": 4
 },
 "nbformat": 4,
 "nbformat_minor": 2
}
